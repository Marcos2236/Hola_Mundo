{
  "nbformat": 4,
  "nbformat_minor": 0,
  "metadata": {
    "colab": {
      "provenance": [],
      "authorship_tag": "ABX9TyP/jA3QjtTurZjawKSxuHSF",
      "include_colab_link": true
    },
    "kernelspec": {
      "name": "python3",
      "display_name": "Python 3"
    },
    "language_info": {
      "name": "python"
    }
  },
  "cells": [
    {
      "cell_type": "markdown",
      "metadata": {
        "id": "view-in-github",
        "colab_type": "text"
      },
      "source": [
        "<a href=\"https://colab.research.google.com/github/Marcos2236/Hola_Mundo/blob/mi_rama/Practica%20de%20TIC.ipynb\" target=\"_parent\"><img src=\"https://colab.research.google.com/assets/colab-badge.svg\" alt=\"Open In Colab\"/></a>"
      ]
    },
    {
      "cell_type": "markdown",
      "source": [
        "                        Software para sumer con tres Variables\n",
        "\n",
        "\n",
        "Este codigo hace una suma con tres variables y que ingrese el ususarios hacemos con una funcion llamada suma tres variables con los parametso a,b y c asignamos la variable suma la cual va hacer la aperacion y retornamos la suma  al final llamamos a la funcion y ponemos los numeros que van a reemplazar a las los parametros a,b y c y ara la operacion y lo llamamos con el print"
      ],
      "metadata": {
        "id": "13_veVT32oOU"
      }
    },
    {
      "cell_type": "code",
      "execution_count": 1,
      "metadata": {
        "colab": {
          "base_uri": "https://localhost:8080/"
        },
        "id": "uuhG4qkq2llM",
        "outputId": "fa402350-8751-4e84-a2f3-78fd1a2437bc"
      },
      "outputs": [
        {
          "output_type": "stream",
          "name": "stdout",
          "text": [
            "30\n"
          ]
        }
      ],
      "source": [
        "# software para hacer una suma con tres variables\n",
        "\n",
        "def suma_tres_variables(a, b, c):\n",
        "  \"\"\"\n",
        "  Esta función suma tres variables.\n",
        "  \"\"\"\n",
        "  suma = a + b + c\n",
        "  return suma\n",
        "\n",
        "# Ejemplo de uso\n",
        "resultado = suma_tres_variables(5, 10, 15)\n",
        "print(resultado)  # Salida: 30"
      ]
    },
    {
      "cell_type": "markdown",
      "source": [
        "                  Software para saber que numero es mayor\n",
        "Es codigo tiene una funcion llamda numero mayor donde los parametros que vamos a utlizar son a,b y c donde hacemos la conpàracion utilizanodo condicionales y ponemos que si a es mayor que b y c entonces me diga que a es mayor a b y c y asi con los demas"
      ],
      "metadata": {
        "id": "mX_pkGJj5faY"
      }
    },
    {
      "cell_type": "code",
      "source": [
        "# prompt: hazme uno que me diga cual e los tres numeros que ingresamos es mayor\n",
        "\n",
        "def numero_mayor(a, b, c):\n",
        "  \"\"\"\n",
        "  Esta función determina cuál de tres números es el mayor.\n",
        "  \"\"\"\n",
        "  if a >= b and a >= c:\n",
        "    return a\n",
        "  elif b >= a and b >= c:\n",
        "    return b\n",
        "  else:\n",
        "    return c\n",
        "\n",
        "# Ejemplo de uso\n",
        "num1 = float(input(\"Ingrese el primer número: \"))\n",
        "num2 = float(input(\"Ingrese el segundo número: \"))\n",
        "num3 = float(input(\"Ingrese el tercer número: \"))\n",
        "\n",
        "mayor = numero_mayor(num1, num2, num3)\n",
        "print(\"El número mayor es:\", mayor)"
      ],
      "metadata": {
        "id": "e31_ZjlA5JPg"
      },
      "execution_count": null,
      "outputs": []
    }
  ]
}